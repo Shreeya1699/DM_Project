{
 "cells": [
  {
   "cell_type": "code",
   "execution_count": 19,
   "metadata": {},
   "outputs": [],
   "source": [
    "import pandas as pd\n",
    "import numpy as np\n"
   ]
  },
  {
   "cell_type": "code",
   "execution_count": 36,
   "metadata": {},
   "outputs": [
    {
     "name": "stderr",
     "output_type": "stream",
     "text": [
      "b'Skipping line 1651336: expected 16 fields, saw 17\\n'\n"
     ]
    },
    {
     "name": "stdout",
     "output_type": "stream",
     "text": [
      "       State Name   District Name   Block Name     Panchayat Name  \\\n",
      "0  ANDHRA PRADESH  SRIKAKULAM(01)  VANGARA(02)     V.V.R.PETA(01)   \n",
      "1  ANDHRA PRADESH  SRIKAKULAM(01)  VANGARA(02)     V.V.R.PETA(01)   \n",
      "2  ANDHRA PRADESH  SRIKAKULAM(01)  VANGARA(02)  RAJULAGUMMADA(02)   \n",
      "3  ANDHRA PRADESH  SRIKAKULAM(01)  VANGARA(02)  RAJULAGUMMADA(02)   \n",
      "4  ANDHRA PRADESH  SRIKAKULAM(01)  VANGARA(02)  KOPPARAVALASA(03)   \n",
      "\n",
      "          Village Name                        Habitation Name  \\\n",
      "0     J.K.GUMADA(001 )          J.K.GUMADA (0101302001010100)   \n",
      "1     V.V.R.PETA(002 )           V.V.R.PETA(0101302002010100)   \n",
      "2  RAJULAGUMMADA(003 )        RAJULAGUMMADA(0101302003010200)   \n",
      "3  RAJULAGUMMADA(003 )  CHINA RAJULAGUMMADA(0101302003020200)   \n",
      "4  KOPPARAVALASA(005 )        KOPPARAVALASA(0101302005010300)   \n",
      "\n",
      "   SC Current Population  ST Current Population  GENERAL Current Population  \\\n",
      "0                    128                     15                         595   \n",
      "1                    626                    626                           0   \n",
      "2                    488                     19                         718   \n",
      "3                     64                     16                         422   \n",
      "4                     64                     64                         963   \n",
      "\n",
      "   SC Covered Population  ST Covered Population  GENERAL Covered Population  \\\n",
      "0                    128                     15                         595   \n",
      "1                    626                    626                           0   \n",
      "2                    488                     19                         718   \n",
      "3                     64                     16                         422   \n",
      "4                     64                     64                         963   \n",
      "\n",
      "          Status SC Concentrated ST Concentrated        Year  \n",
      "0  Fully Covered              NO              NO  01_04_2009  \n",
      "1  Fully Covered             YES              NO  01_04_2009  \n",
      "2  Fully Covered              NO              NO  01_04_2009  \n",
      "3  Fully Covered              NO              NO  01_04_2009  \n",
      "4  Fully Covered              NO              NO  01_04_2009  \n"
     ]
    }
   ],
   "source": [
    "file_path = \"E://SEMESTER/3.2/CS F415 DM/research project/BASIC_HABITATION_INFORMATION_AS_ON_1_APR_09.csv\"\n",
    "sheet = 1\n",
    "pop_data =pd.read_csv(file_path,error_bad_lines =False)\n",
    "print(df.head())"
   ]
  },
  {
   "cell_type": "code",
   "execution_count": 41,
   "metadata": {},
   "outputs": [
    {
     "data": {
      "text/plain": [
       "State Name                     0\n",
       "District Name                  0\n",
       "Block Name                     0\n",
       "Panchayat Name                15\n",
       "Village Name                   0\n",
       "Habitation Name                4\n",
       "SC Current Population          0\n",
       "ST Current Population          0\n",
       "GENERAL Current Population     0\n",
       "SC Covered Population          0\n",
       "ST Covered Population          0\n",
       "GENERAL Covered Population     0\n",
       "Status                         0\n",
       "SC Concentrated                0\n",
       "ST Concentrated                0\n",
       "Year                           0\n",
       "dtype: int64"
      ]
     },
     "execution_count": 41,
     "metadata": {},
     "output_type": "execute_result"
    }
   ],
   "source": [
    "pop_data.isnull().sum()"
   ]
  },
  {
   "cell_type": "code",
   "execution_count": 39,
   "metadata": {},
   "outputs": [
    {
     "data": {
      "text/plain": [
       "State Name                    object\n",
       "District Name                 object\n",
       "Block Name                    object\n",
       "Panchayat Name                object\n",
       "Village Name                  object\n",
       "Habitation Name               object\n",
       "SC Current Population          int64\n",
       "ST Current Population          int64\n",
       "GENERAL Current Population     int64\n",
       "SC Covered Population          int64\n",
       "ST Covered Population          int64\n",
       "GENERAL Covered Population     int64\n",
       "Status                        object\n",
       "SC Concentrated               object\n",
       "ST Concentrated               object\n",
       "Year                          object\n",
       "dtype: object"
      ]
     },
     "execution_count": 39,
     "metadata": {},
     "output_type": "execute_result"
    }
   ],
   "source": [
    "pop_data.dtypes"
   ]
  },
  {
   "cell_type": "code",
   "execution_count": null,
   "metadata": {},
   "outputs": [],
   "source": [
    "pop_data['Total Population']= pop_data['SC Current Population'] +"
   ]
  }
 ],
 "metadata": {
  "kernelspec": {
   "display_name": "Python 3",
   "language": "python",
   "name": "python3"
  },
  "language_info": {
   "codemirror_mode": {
    "name": "ipython",
    "version": 3
   },
   "file_extension": ".py",
   "mimetype": "text/x-python",
   "name": "python",
   "nbconvert_exporter": "python",
   "pygments_lexer": "ipython3",
   "version": "3.7.3"
  }
 },
 "nbformat": 4,
 "nbformat_minor": 2
}
